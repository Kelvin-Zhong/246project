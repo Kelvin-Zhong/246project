{
 "cells": [
  {
   "cell_type": "code",
   "execution_count": 31,
   "metadata": {
    "collapsed": true
   },
   "outputs": [],
   "source": [
    "#PageRank function\n",
    "import networkx as nx\n",
    "def pagerank_scipy(G, alpha=0.85, personalization=None,\n",
    "                   max_iter=100, tol=1.0e-6, weight='weight',\n",
    "                   dangling=None):\n",
    "\n",
    "    import scipy.sparse\n",
    "\n",
    "    N = len(G)\n",
    "    if N == 0:\n",
    "        return {}\n",
    "\n",
    "    nodelist = G.nodes()\n",
    "    M = nx.to_scipy_sparse_matrix(G, nodelist=nodelist, weight=weight,\n",
    "                                  dtype=float)\n",
    "    S = scipy.array(M.sum(axis=1)).flatten()\n",
    "    S[S != 0] = 1.0 / S[S != 0]\n",
    "    Q = scipy.sparse.spdiags(S.T, 0, *M.shape, format='csr')\n",
    "    M = Q * M\n",
    "\n",
    "    # initial vector\n",
    "    x = scipy.repeat(1.0 / N, N)\n",
    "\n",
    "    # Personalization vector\n",
    "    if personalization is None:\n",
    "        p = scipy.repeat(1.0 / N, N)\n",
    "    else:\n",
    "        missing = set(nodelist) - set(personalization)\n",
    "        if missing:\n",
    "            raise NetworkXError('Personalization vector dictionary '\n",
    "                                'must have a value for every node. '\n",
    "                                'Missing nodes %s' % missing)\n",
    "        p = scipy.array([personalization[n] for n in nodelist],\n",
    "                        dtype=float)\n",
    "        p = p / p.sum()\n",
    "\n",
    "    # Dangling nodes\n",
    "    if dangling is None:\n",
    "        dangling_weights = p\n",
    "    else:\n",
    "        missing = set(nodelist) - set(dangling)\n",
    "        if missing:\n",
    "            raise NetworkXError('Dangling node dictionary '\n",
    "                                'must have a value for every node. '\n",
    "                                'Missing nodes %s' % missing)\n",
    "        # Convert the dangling dictionary into an array in nodelist order\n",
    "        dangling_weights = scipy.array([dangling[n] for n in nodelist],\n",
    "                                       dtype=float)\n",
    "        dangling_weights /= dangling_weights.sum()\n",
    "    is_dangling = scipy.where(S == 0)[0]\n",
    "\n",
    "    # power iteration: make up to max_iter iterations\n",
    "    for _ in range(max_iter):\n",
    "        xlast = x\n",
    "        x = alpha * (x * M + sum(x[is_dangling]) * dangling_weights) + \\\n",
    "            (1 - alpha) * p\n",
    "        # check convergence, l1 norm\n",
    "        err = scipy.absolute(x - xlast).sum()\n",
    "        if err < N * tol:\n",
    "            return dict(zip(nodelist, map(float, x)))\n",
    "    raise NetworkXError('pagerank_scipy: power iteration failed to converge '\n",
    "                        'in %d iterations.' % max_iter)\n"
   ]
  },
  {
   "cell_type": "code",
   "execution_count": 51,
   "metadata": {
    "collapsed": true
   },
   "outputs": [],
   "source": [
    "import random\n",
    "import copy\n",
    "\n",
    "def add_sybils(DG,d,a):\n",
    "    \n",
    "    true_nodes = DG.nodes()\n",
    "    node_number = len(true_nodes)\n",
    "    DG2 = copy.deepcopy(DG)\n",
    "    true_nodes_number = len(true_nodes)\n",
    "    start = max(DG.nodes()) + 1\n",
    "    Sybil_number = int(node_number * 0.3)\n",
    "    new_node = []\n",
    "    \n",
    "    for i in range(Sybil_number):\n",
    "        DG2.add_node(start+i)\n",
    "        new_node.append(start+i)\n",
    "    node_number2 = len(DG2.nodes())\n",
    "    \n",
    "    print node_number\n",
    "    print node_number2\n",
    "\n",
    "    for node in new_node:\n",
    "        for i in range(d):\n",
    "            to = random.randint(start, start+Sybil_number)\n",
    "            DG2.add_edge(node, to)\n",
    "            DG2.add_edge(to, node)\n",
    "\n",
    "    edge_number_add = 0\n",
    "    kkkk = set([])\n",
    "    for i in range(a):\n",
    "        edge_number_add += 1\n",
    "        from_one = true_nodes[random.randint(0, true_nodes_number-1)]\n",
    "        to_other = new_node[random.randint(0, Sybil_number-1)]\n",
    "        kkkk.add(str(from_one) + \"#\" + str(to_other))\n",
    "        DG2.add_edge(from_one, to_other)\n",
    "        DG2.add_edge(to_other, from_one)\n",
    "    \n",
    "    print edge_number_add,len(kkkk)\n",
    "    return DG2"
   ]
  },
  {
   "cell_type": "code",
   "execution_count": 33,
   "metadata": {
    "collapsed": true
   },
   "outputs": [],
   "source": [
    "def get_personalized_vector(DG2,TrustSet):\n",
    "    NumberofTrust = len(TrustSet)\n",
    "    Personalized_vector= DG2.in_degree()\n",
    "    for key in Personalized_vector:\n",
    "        if key in TrustSet:\n",
    "            Personalized_vector[key] = 0\n",
    "        else:\n",
    "            Personalized_vector[key] = 1.0 / NumberofTrust\n",
    "    return Personalized_vector"
   ]
  },
  {
   "cell_type": "code",
   "execution_count": 34,
   "metadata": {
    "collapsed": true
   },
   "outputs": [],
   "source": [
    "def initialize_trust_seeds(DG,numberofseed):\n",
    "    l = []\n",
    "    for n in DG:\n",
    "        numfollower = len(DG.in_edges(n))\n",
    "        #print G.in_edges(n), numfollower\n",
    "        l.append([n, numfollower])\n",
    "\n",
    "    l = sorted(l, key=lambda s: s[1], reverse=True)\n",
    "\n",
    "    #Set the top 100 nodes as trust\n",
    "    t = []\n",
    "    for i in range(numberofseed):\n",
    "        t.append(l[i][0])\n",
    "\n",
    "    Personalized_vector= DG.in_degree()\n",
    "    TrustSet = set(t)\n",
    "    return TrustSet"
   ]
  },
  {
   "cell_type": "code",
   "execution_count": 59,
   "metadata": {
    "collapsed": true
   },
   "outputs": [],
   "source": [
    "def get_y_with_pagerank(DG2,true_nodes):\n",
    "    #After getting the pagerank value we will go to find the ROC\n",
    "    ### Construct y and result_prob\n",
    "    nodes = DG2.nodes()\n",
    "    y = []\n",
    "    result_prob = []\n",
    "    index = []\n",
    "    for i in nodes:\n",
    "        if i in true_nodes:\n",
    "            y.append(0)\n",
    "        else:\n",
    "            y.append(1)\n",
    "        result_prob.append(result[i])\n",
    "        index.append(i)\n",
    "    return y,result_prob,index"
   ]
  },
  {
   "cell_type": "code",
   "execution_count": 36,
   "metadata": {
    "collapsed": false
   },
   "outputs": [],
   "source": [
    "def compute_TPR_FPR(true_nodes_set,threshold,result_prob):\n",
    "    TN = 0\n",
    "    TP = 0\n",
    "    FN = 0\n",
    "    FP = 0\n",
    "    \n",
    "    for i in range(len(result_prob)):\n",
    "        if result_prob[i] < threshold:\n",
    "            if index[i] in true_nodes_set:\n",
    "                FP += 1\n",
    "            else:\n",
    "                TP += 1\n",
    "        else:\n",
    "            if index[i] in true_nodes_set:\n",
    "                TN += 1\n",
    "            else:\n",
    "                FN += 1\n",
    "    if TP + FN == 0:  \n",
    "        TPR = -1\n",
    "    else:\n",
    "        TPR = TP * 1.0 / (TP + FN)\n",
    "    \n",
    "    if FP + TN == 0:\n",
    "        FPR = -1\n",
    "    else:\n",
    "        FPR = FP * 1.0 / (FP + TN)\n",
    "    #print TPR,FPR\n",
    "    return TPR,FPR\n",
    "    \n",
    "#True Positive Rate: Recall: (TP) / (TP + FN)\n",
    "#False Positive Rate: FP / (FP + TN)"
   ]
  },
  {
   "cell_type": "code",
   "execution_count": 37,
   "metadata": {
    "collapsed": false
   },
   "outputs": [],
   "source": [
    "#Filter the FPR and TPR to ensure no negative slew\n",
    "def filter_FPR_TPR(TPR_array,FPR_array):\n",
    "    TPR_array2 = [0.0]\n",
    "    FPR_array2 = [0.0]\n",
    "    con = 0\n",
    "    for i in range(1,len(TPR_array)):\n",
    "        if TPR_array[i] > FPR_array[i] and TPR_array[i] >= TPR_array2[con] and FPR_array[i] >= FPR_array2[con]:\n",
    "            TPR_array2.append(TPR_array[i])\n",
    "            FPR_array2.append(FPR_array[i])\n",
    "            con += 1\n",
    "    return TPR_array2,FPR_array2"
   ]
  },
  {
   "cell_type": "code",
   "execution_count": 60,
   "metadata": {
    "collapsed": false
   },
   "outputs": [
    {
     "name": "stdout",
     "output_type": "stream",
     "text": [
      "7115\n"
     ]
    }
   ],
   "source": [
    "#Read the original true graph from file\n",
    "import networkx as nx\n",
    "import pickle\n",
    "DG = pickle.load( open( '246_source/Wiki-Vote.p', \"rb\" ) )\n",
    "\n",
    "true_nodes = set(DG.nodes())\n",
    "print len(true_nodes)\n",
    "numberofseed = 100\n",
    "TrustSet = initialize_trust_seeds(DG,numberofseed)"
   ]
  },
  {
   "cell_type": "code",
   "execution_count": 61,
   "metadata": {
    "collapsed": false
   },
   "outputs": [
    {
     "name": "stdout",
     "output_type": "stream",
     "text": [
      "7115\n",
      "9249\n",
      "2000 2000\n"
     ]
    }
   ],
   "source": [
    "#run trust_rank\n",
    "d = 4\n",
    "a = 2000\n",
    "DG2 = add_sybils(DG,d,a)\n",
    "Personalized_vector = get_personalized_vector(DG2,TrustSet)\n",
    "result = pagerank_scipy(DG2,personalization=Personalized_vector)\n",
    "y,result_prob,index = get_y_with_pagerank(DG2,true_nodes)"
   ]
  },
  {
   "cell_type": "code",
   "execution_count": 62,
   "metadata": {
    "collapsed": false
   },
   "outputs": [],
   "source": [
    "n = len(DG2.nodes())\n",
    "max_abs_prob = max(result_prob) * n * 1.0\n",
    "for i in xrange(len(result_prob)):\n",
    "    result_prob[i] = result_prob[i] * n / max_abs_prob\n",
    "\n",
    "threshold2 = []\n",
    "sort_result_prob = sorted(result_prob)\n",
    "for i in range(150):\n",
    "    tmp_n = int((0.25 + 0.005 * i) * n)\n",
    "    threshold2.append(sort_result_prob[tmp_n])\n",
    "#threshold2 = threshold2[::-1]"
   ]
  },
  {
   "cell_type": "code",
   "execution_count": 29,
   "metadata": {
    "collapsed": false
   },
   "outputs": [
    {
     "name": "stdout",
     "output_type": "stream",
     "text": [
      "0.178601133233 0.95977246765\n"
     ]
    }
   ],
   "source": [
    "TPR,FPR = compute_TPR_FPR(true_nodes,0.0002,result_prob)\n",
    "print TPR, FPR"
   ]
  },
  {
   "cell_type": "code",
   "execution_count": 63,
   "metadata": {
    "collapsed": false
   },
   "outputs": [],
   "source": [
    "threshold = 0.01\n",
    "\n",
    "TPR_array = []\n",
    "FPR_array = []\n",
    "for i in range(len(threshold2)):\n",
    "    TPR,FPR = compute_TPR_FPR(true_nodes,threshold2[i],result_prob)\n",
    "    if TPR == -1 or FPR == -1:\n",
    "        continue\n",
    "    TPR_array.append(TPR)\n",
    "    FPR_array.append(FPR)\n",
    "\n",
    "#TPR_array = TPR_array[::-1]\n",
    "TPR_array.insert(0,0.0)\n",
    "TPR_array.append(1.0)\n",
    "FPR_array.insert(0,0.0)\n",
    "FPR_array.append(1.0)"
   ]
  },
  {
   "cell_type": "code",
   "execution_count": 64,
   "metadata": {
    "collapsed": false
   },
   "outputs": [
    {
     "name": "stdout",
     "output_type": "stream",
     "text": [
      "0.0 0.0\n",
      "0.0 0.0\n",
      "0.0 0.0\n",
      "0.0 0.0\n",
      "0.0 0.0\n",
      "0.0 0.0\n",
      "0.0 0.0\n",
      "0.0 0.0\n",
      "0.0 0.0\n",
      "0.0 0.0\n",
      "0.0 0.0\n",
      "0.0 0.0\n",
      "0.0 0.0\n",
      "0.0 0.0\n",
      "0.0 0.0\n",
      "0.0 0.0\n",
      "0.0 0.0\n",
      "0.0 0.0\n",
      "0.0 0.0\n",
      "0.0 0.0\n",
      "0.0 0.0\n",
      "0.0 0.0\n",
      "0.0 0.0\n",
      "0.0 0.0\n",
      "0.0 0.0\n",
      "0.0 0.0\n",
      "0.0 0.0\n",
      "0.0 0.0\n",
      "0.0 0.0\n",
      "0.0 0.506957132818\n",
      "0.0 0.513422347154\n",
      "0.0 0.520028109628\n",
      "0.0 0.526493323963\n",
      "0.0 0.532958538299\n",
      "0.0 0.539283204498\n",
      "0.0 0.546029515109\n",
      "0.0 0.552354181307\n",
      "0.0 0.558959943781\n",
      "0.0 0.565284609979\n",
      "0.0 0.571890372453\n",
      "0.0 0.578496134926\n",
      "0.0 0.584820801124\n",
      "0.0 0.591426563598\n",
      "0.0 0.598032326072\n",
      "0.0 0.604497540408\n",
      "0.0 0.610962754743\n",
      "0.0 0.617427969079\n",
      "0.0 0.624033731553\n",
      "0.0 0.630498945889\n",
      "0.0 0.636964160225\n",
      "0.0 0.643429374561\n",
      "0.000468384074941 0.649894588897\n",
      "0.000468384074941 0.656359803233\n",
      "0.000468384074941 0.662825017569\n",
      "0.000468384074941 0.669290231904\n",
      "0.000468384074941 0.675895994378\n",
      "0.000468384074941 0.682361208714\n",
      "0.000468384074941 0.68882642305\n",
      "0.000468384074941 0.695291637386\n",
      "0.000468384074941 0.701897399859\n",
      "0.000468384074941 0.708362614195\n",
      "0.000468384074941 0.714827828531\n",
      "0.000468384074941 0.721293042867\n",
      "0.000468384074941 0.727898805341\n",
      "0.000468384074941 0.734364019677\n",
      "0.000468384074941 0.740829234013\n",
      "0.000468384074941 0.747294448349\n",
      "0.000468384074941 0.753900210822\n",
      "0.000468384074941 0.760365425158\n",
      "0.000468384074941 0.766830639494\n",
      "0.000468384074941 0.77329585383\n",
      "0.000468384074941 0.779901616304\n",
      "0.000468384074941 0.786366830639\n",
      "0.000468384074941 0.792832044975\n",
      "0.000936768149883 0.799156711174\n",
      "0.00187353629977 0.805481377372\n",
      "0.0056206088993 0.810822206606\n",
      "0.00843091334895 0.816444132115\n",
      "0.0126463700234 0.821644413212\n",
      "0.0196721311475 0.826141953619\n",
      "0.0285714285714 0.829936753338\n",
      "0.0355971896956 0.834293745608\n",
      "0.0449648711944 0.837947997189\n",
      "0.0538641686183 0.841883345046\n",
      "0.063700234192 0.845397048489\n",
      "0.0763466042155 0.848067463106\n",
      "0.0875878220141 0.851159522136\n",
      "0.0978922716628 0.854532677442\n",
      "0.107259953162 0.858327477161\n",
      "0.118969555035 0.861278988053\n",
      "0.133489461358 0.863387210119\n",
      "0.149882903981 0.865073787772\n",
      "0.164402810304 0.867182009838\n",
      "0.180327868852 0.868868587491\n",
      "0.193442622951 0.87139845397\n",
      "0.209367681499 0.873225579761\n",
      "0.222014051522 0.875895994378\n",
      "0.23606557377 0.878144764582\n",
      "0.249180327869 0.880674631061\n",
      "0.265105386417 0.882501756852\n",
      "0.28149882904 0.884047786367\n",
      "0.298360655738 0.885453267744\n",
      "0.314754098361 0.886999297259\n",
      "0.328337236534 0.889529163739\n",
      "0.345199063232 0.890934645116\n",
      "0.36206088993 0.892340126493\n",
      "0.377985948478 0.894026704146\n",
      "0.395316159251 0.895432185524\n",
      "0.412177985948 0.896837666901\n",
      "0.427166276347 0.898805340829\n",
      "0.44262295082 0.90063246662\n",
      "0.460421545667 0.901897399859\n",
      "0.47681498829 0.903443429375\n",
      "0.494613583138 0.904567814476\n",
      "0.510538641686 0.906254392129\n",
      "0.526932084309 0.907940969782\n",
      "0.545667447307 0.908784258609\n",
      "0.56206088993 0.910330288124\n",
      "0.578922716628 0.911735769501\n",
      "0.594379391101 0.913703443429\n",
      "0.611241217799 0.915108924807\n",
      "0.627166276347 0.91679550246\n",
      "0.64262295082 0.91862262825\n",
      "0.660421545667 0.91988756149\n",
      "0.675409836066 0.921855235418\n",
      "0.693676814988 0.922839072382\n",
      "0.711943793911 0.923822909346\n",
      "0.728337236534 0.925509486999\n",
      "0.743325526932 0.927477160928\n",
      "0.75925058548 0.92916373858\n",
      "0.774707259953 0.930990864371\n",
      "0.792505854801 0.932255797611\n",
      "0.804683840749 0.935066760365\n",
      "0.820140515222 0.936893886156\n",
      "0.833723653396 0.939283204498\n",
      "0.845901639344 0.94223471539\n",
      "0.861358313817 0.944061841181\n",
      "0.872599531616 0.947153900211\n",
      "0.886182669789 0.949543218552\n",
      "0.899765807963 0.952073085032\n",
      "0.912412177986 0.954743499649\n",
      "0.92224824356 0.958257203092\n",
      "0.937704918033 0.960084328883\n",
      "0.948009367681 0.963598032326\n",
      "0.95737704918 0.967252283907\n",
      "0.966744730679 0.970906535488\n",
      "0.975175644028 0.974841883345\n",
      "0.980796252927 0.979761068166\n",
      "0.985948477752 0.984680252987\n",
      "0.990632318501 0.989739985945\n",
      "0.996721311475 0.994378074491\n",
      "1.0 1.0\n"
     ]
    }
   ],
   "source": [
    "for i in range(len(TPR_array)):\n",
    "    print TPR_array[i],FPR_array[i]"
   ]
  },
  {
   "cell_type": "code",
   "execution_count": 66,
   "metadata": {
    "collapsed": false
   },
   "outputs": [
    {
     "name": "stdout",
     "output_type": "stream",
     "text": [
      "Area under the ROC curve : 0.904082\n"
     ]
    }
   ],
   "source": [
    "\n",
    "#Use package to draw and compute the ROC\n",
    "from sklearn.metrics import roc_curve, auc\n",
    "import numpy as np\n",
    "import pylab as pl\n",
    "\n",
    "\n",
    "# Compute ROC curve and area the curve\n",
    "#### Here probas_[:,1] is a numpy array of probabilities\n",
    "roc_auc = auc(FPR_array, TPR_array)\n",
    "fpr, tpr, thresholds = roc_curve(y, result_prob)\n",
    "roc_auc = auc(fpr, tpr)\n",
    "print \"Area under the ROC curve : %f\" % roc_auc\n",
    "\n",
    "# Plot ROC curve\n",
    "pl.clf()\n",
    "pl.plot(fpr, tpr, label='ROC curve (area = %0.2f)' % roc_auc)\n",
    "pl.plot([0, 1], [0, 1], 'k--')\n",
    "pl.xlim([0.0, 1.0])\n",
    "pl.ylim([0.0, 1.0])\n",
    "pl.xlabel('False Positive Rate')\n",
    "pl.ylabel('True Positive Rate')\n",
    "pl.title('Receiver operating characteristic example')\n",
    "pl.legend(loc=\"lower right\")\n",
    "pl.show()"
   ]
  },
  {
   "cell_type": "code",
   "execution_count": 19,
   "metadata": {
    "collapsed": true
   },
   "outputs": [],
   "source": [
    "TPR_array2 = [0.0]\n",
    "FPR_array2 = [0.0]\n",
    "\n",
    "for i in range(1,len(TPR_array)):\n",
    "    if TPR_array[i] >= TPR_array[i-1] and FPR_array[i] >= FPR_array[i-1]:\n",
    "        TPR_array2.append(TPR_array[i])\n",
    "        FPR_array2.append(FPR_array[i])"
   ]
  },
  {
   "cell_type": "code",
   "execution_count": 54,
   "metadata": {
    "collapsed": true
   },
   "outputs": [],
   "source": [
    "TPR_array.append(1.0)\n",
    "FPR_array.append(1.0)\n",
    "TPR_array,FPR_array = filter_FPR_TPR(TPR_array,FPR_array)"
   ]
  },
  {
   "cell_type": "code",
   "execution_count": 55,
   "metadata": {
    "collapsed": false
   },
   "outputs": [],
   "source": [
    "from sklearn.metrics import roc_curve, auc\n",
    "import numpy as np\n",
    "import pylab as pl\n",
    "roc_auc = auc(FPR_array, TPR_array)"
   ]
  },
  {
   "cell_type": "code",
   "execution_count": 56,
   "metadata": {
    "collapsed": false
   },
   "outputs": [
    {
     "data": {
      "text/plain": [
       "(0.33402437969624155,\n",
       " [0.0, 0.8686459739091318, 1.0],\n",
       " [0.0, 0.7672001713743611, 0.7680689391176444])"
      ]
     },
     "execution_count": 56,
     "metadata": {},
     "output_type": "execute_result"
    }
   ],
   "source": [
    "roc_auc,TPR_array,FPR_array2"
   ]
  },
  {
   "cell_type": "code",
   "execution_count": 1,
   "metadata": {
    "collapsed": false
   },
   "outputs": [],
   "source": [
    "#result_prob"
   ]
  },
  {
   "cell_type": "code",
   "execution_count": 16,
   "metadata": {
    "collapsed": false
   },
   "outputs": [
    {
     "name": "stdout",
     "output_type": "stream",
     "text": [
      "Area under the ROC curve : 0.793881\n"
     ]
    }
   ],
   "source": [
    "import numpy as np\n",
    "import pylab as pl\n",
    "from sklearn import svm, datasets\n",
    "from sklearn.utils import shuffle\n",
    "from sklearn.metrics import roc_curve, auc\n",
    "\n",
    "random_state = np.random.RandomState(0)\n",
    "\n",
    "# Import some data to play with\n",
    "iris = datasets.load_iris()\n",
    "X = iris.data\n",
    "y = iris.target\n",
    "\n",
    "# Make it a binary classification problem by removing the third class\n",
    "X, y = X[y != 2], y[y != 2]\n",
    "n_samples, n_features = X.shape\n",
    "\n",
    "# Add noisy features to make the problem harder\n",
    "X = np.c_[X, random_state.randn(n_samples, 200 * n_features)]\n",
    "\n",
    "# shuffle and split training and test sets\n",
    "X, y = shuffle(X, y, random_state=random_state)\n",
    "half = int(n_samples / 2)\n",
    "X_train, X_test = X[:half], X[half:]\n",
    "y_train, y_test = y[:half], y[half:]\n",
    "\n",
    "# Run classifier\n",
    "classifier = svm.SVC(kernel='linear', probability=True)\n",
    "probas_ = classifier.fit(X_train, y_train).predict_proba(X_test)\n",
    "\n",
    "# Compute ROC curve and area the curve\n",
    "fpr, tpr, thresholds = roc_curve(y_test, probas_[:, 1])\n",
    "roc_auc = auc(fpr, tpr)\n",
    "print \"Area under the ROC curve : %f\" % roc_auc\n",
    "\n",
    "# Plot ROC curve\n",
    "pl.clf()\n",
    "pl.plot(fpr, tpr, label='ROC curve (area = %0.2f)' % roc_auc)\n",
    "pl.plot([0, 1], [0, 1], 'k--')\n",
    "pl.xlim([0.0, 1.0])\n",
    "pl.ylim([0.0, 1.0])\n",
    "pl.xlabel('False Positive Rate')\n",
    "pl.ylabel('True Positive Rate')\n",
    "pl.title('Receiver operating characteristic example')\n",
    "pl.legend(loc=\"lower right\")\n",
    "pl.show()"
   ]
  }
 ],
 "metadata": {
  "kernelspec": {
   "display_name": "Python 2",
   "language": "python",
   "name": "python2"
  },
  "language_info": {
   "codemirror_mode": {
    "name": "ipython",
    "version": 2
   },
   "file_extension": ".py",
   "mimetype": "text/x-python",
   "name": "python",
   "nbconvert_exporter": "python",
   "pygments_lexer": "ipython2",
   "version": "2.7.6"
  }
 },
 "nbformat": 4,
 "nbformat_minor": 0
}
