{
 "cells": [
  {
   "cell_type": "code",
   "execution_count": 37,
   "metadata": {
    "collapsed": false
   },
   "outputs": [],
   "source": [
    "import pickle\n",
    "import networkx as nx\n",
    "DG = pickle.load( open( '246_source/retweet_network_graph.p', \"rb\" ) )"
   ]
  },
  {
   "cell_type": "code",
   "execution_count": 9,
   "metadata": {
    "collapsed": false
   },
   "outputs": [
    {
     "name": "stdout",
     "output_type": "stream",
     "text": [
      "256491\n"
     ]
    }
   ],
   "source": [
    "node_number = len(DG.nodes())\n",
    "print node_number"
   ]
  },
  {
   "cell_type": "code",
   "execution_count": 39,
   "metadata": {
    "collapsed": false
   },
   "outputs": [
    {
     "name": "stdout",
     "output_type": "stream",
     "text": [
      "256491\n",
      "333438\n"
     ]
    }
   ],
   "source": [
    "#Create Sybil\n",
    "import random\n",
    "import copy\n",
    "DG2 = copy.deepcopy(DG)\n",
    "TrustSet = DG2.nodes()\n",
    "TrustSet_number = len(TrustSet)\n",
    "start = max(DG.nodes()) + 1\n",
    "Sybil_number = int(node_number * 0.3)\n",
    "new_node = []\n",
    "for i in range(Sybil_number):\n",
    "    DG2.add_node(start+i)\n",
    "    new_node.append(start+i)\n",
    "node_number2 = len(DG2.nodes())\n",
    "print node_number\n",
    "print node_number2\n",
    "\n",
    "for node in new_node:\n",
    "    for i in range(3):\n",
    "        to = random.randint(start, start+Sybil_number)\n",
    "        DG2.add_edge(node, to)\n",
    "        DG2.add_edge(to, node)\n",
    "\n",
    "for i in range(3):\n",
    "    from_one = TrustSet[random.randint(0, TrustSet_number-1)]\n",
    "    to_other = new_node[random.randint(0, Sybil_number-1)]\n",
    "    DG2.add_edge(from_one, to_other)\n",
    "    DG2.add_edge(to_other, from_one)\n",
    "    \n",
    "\n",
    "        \n",
    "\n",
    "\n",
    "\n",
    "\n",
    "\n",
    "\n",
    "    \n",
    "    "
   ]
  },
  {
   "cell_type": "code",
   "execution_count": null,
   "metadata": {
    "collapsed": true
   },
   "outputs": [],
   "source": []
  },
  {
   "cell_type": "code",
   "execution_count": null,
   "metadata": {
    "collapsed": true
   },
   "outputs": [],
   "source": []
  }
 ],
 "metadata": {
  "kernelspec": {
   "display_name": "Python 2",
   "language": "python",
   "name": "python2"
  },
  "language_info": {
   "codemirror_mode": {
    "name": "ipython",
    "version": 2
   },
   "file_extension": ".py",
   "mimetype": "text/x-python",
   "name": "python",
   "nbconvert_exporter": "python",
   "pygments_lexer": "ipython2",
   "version": "2.7.9"
  }
 },
 "nbformat": 4,
 "nbformat_minor": 0
}
