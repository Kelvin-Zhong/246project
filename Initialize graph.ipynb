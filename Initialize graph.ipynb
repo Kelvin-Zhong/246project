{
 "cells": [
  {
   "cell_type": "code",
   "execution_count": 8,
   "metadata": {
    "collapsed": false
   },
   "outputs": [
    {
     "name": "stdout",
     "output_type": "stream",
     "text": [
      "0\n",
      "100000\n",
      "200000\n",
      "300000\n"
     ]
    }
   ],
   "source": [
    "import networkx as nx\n",
    "DG = nx.DiGraph()\n",
    "\n",
    "#for line in f:\n",
    "count = 0\n",
    "\n",
    "#DG = nx.read_edgelist('246_source/higgs-retweet_network.edgelist')\n",
    "\n",
    "\n",
    "with open('246_source/higgs-retweet_network.edgelist','r') as f :\n",
    "    for line in f:\n",
    "        if count % 100000 == 0:\n",
    "            print count\n",
    "        count += 1\n",
    "        \n",
    "        nodes = line.split()\n",
    "        nodeFrom = int(nodes[0])\n",
    "        nodeTo = int(nodes[1])\n",
    "        DG.add_edge(nodeFrom, nodeTo)\n",
    " "
   ]
  },
  {
   "cell_type": "code",
   "execution_count": 9,
   "metadata": {
    "collapsed": false,
    "scrolled": true
   },
   "outputs": [
    {
     "name": "stdout",
     "output_type": "stream",
     "text": [
      "256491 328132\n"
     ]
    }
   ],
   "source": [
    "print DG.order(),count"
   ]
  },
  {
   "cell_type": "code",
   "execution_count": 10,
   "metadata": {
    "collapsed": true
   },
   "outputs": [],
   "source": [
    "import pickle\n",
    "pickle.dump( DG, open( '246_source/retweet_network_graph.p', \"w\" ) )"
   ]
  }
 ],
 "metadata": {
  "kernelspec": {
   "display_name": "Python 2",
   "language": "python",
   "name": "python2"
  },
  "language_info": {
   "codemirror_mode": {
    "name": "ipython",
    "version": 2
   },
   "file_extension": ".py",
   "mimetype": "text/x-python",
   "name": "python",
   "nbconvert_exporter": "python",
   "pygments_lexer": "ipython2",
   "version": "2.7.6"
  }
 },
 "nbformat": 4,
 "nbformat_minor": 0
}
