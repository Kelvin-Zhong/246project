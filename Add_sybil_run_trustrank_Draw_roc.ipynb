{
 "cells": [
  {
   "cell_type": "code",
   "execution_count": 8,
   "metadata": {
    "collapsed": true
   },
   "outputs": [],
   "source": [
    "#PageRank function\n",
    "import networkx as nx\n",
    "def pagerank_scipy(G, alpha=0.85, personalization=None,\n",
    "                   max_iter=100, tol=1.0e-6, weight='weight',\n",
    "                   dangling=None):\n",
    "\n",
    "    import scipy.sparse\n",
    "\n",
    "    N = len(G)\n",
    "    if N == 0:\n",
    "        return {}\n",
    "\n",
    "    nodelist = G.nodes()\n",
    "    M = nx.to_scipy_sparse_matrix(G, nodelist=nodelist, weight=weight,\n",
    "                                  dtype=float)\n",
    "    S = scipy.array(M.sum(axis=1)).flatten()\n",
    "    S[S != 0] = 1.0 / S[S != 0]\n",
    "    Q = scipy.sparse.spdiags(S.T, 0, *M.shape, format='csr')\n",
    "    M = Q * M\n",
    "\n",
    "    # initial vector\n",
    "    x = scipy.repeat(1.0 / N, N)\n",
    "\n",
    "    # Personalization vector\n",
    "    if personalization is None:\n",
    "        p = scipy.repeat(1.0 / N, N)\n",
    "    else:\n",
    "        missing = set(nodelist) - set(personalization)\n",
    "        if missing:\n",
    "            raise NetworkXError('Personalization vector dictionary '\n",
    "                                'must have a value for every node. '\n",
    "                                'Missing nodes %s' % missing)\n",
    "        p = scipy.array([personalization[n] for n in nodelist],\n",
    "                        dtype=float)\n",
    "        p = p / p.sum()\n",
    "\n",
    "    # Dangling nodes\n",
    "    if dangling is None:\n",
    "        dangling_weights = p\n",
    "    else:\n",
    "        missing = set(nodelist) - set(dangling)\n",
    "        if missing:\n",
    "            raise NetworkXError('Dangling node dictionary '\n",
    "                                'must have a value for every node. '\n",
    "                                'Missing nodes %s' % missing)\n",
    "        # Convert the dangling dictionary into an array in nodelist order\n",
    "        dangling_weights = scipy.array([dangling[n] for n in nodelist],\n",
    "                                       dtype=float)\n",
    "        dangling_weights /= dangling_weights.sum()\n",
    "    is_dangling = scipy.where(S == 0)[0]\n",
    "\n",
    "    # power iteration: make up to max_iter iterations\n",
    "    for _ in range(max_iter):\n",
    "        xlast = x\n",
    "        x = alpha * (x * M + sum(x[is_dangling]) * dangling_weights) + \\\n",
    "            (1 - alpha) * p\n",
    "        # check convergence, l1 norm\n",
    "        err = scipy.absolute(x - xlast).sum()\n",
    "        if err < N * tol:\n",
    "            return dict(zip(nodelist, map(float, x)))\n",
    "    raise NetworkXError('pagerank_scipy: power iteration failed to converge '\n",
    "                        'in %d iterations.' % max_iter)\n"
   ]
  },
  {
   "cell_type": "code",
   "execution_count": 2,
   "metadata": {
    "collapsed": false
   },
   "outputs": [],
   "source": [
    "#Read the original true graph from file\n",
    "import networkx as nx\n",
    "import pickle\n",
    "DG = pickle.load( open( '246_source/retweet_network_graph.p', \"rb\" ) )\n",
    "true_nodes = set(DG.nodes())"
   ]
  },
  {
   "cell_type": "code",
   "execution_count": 4,
   "metadata": {
    "collapsed": false
   },
   "outputs": [
    {
     "name": "stdout",
     "output_type": "stream",
     "text": [
      "256491\n",
      "333438\n"
     ]
    }
   ],
   "source": [
    "#Add Sybils into the graph\n",
    "\n",
    "d = 3\n",
    "a = 3\n",
    "\n",
    "import random\n",
    "import copy\n",
    "node_number = len(DG.nodes())\n",
    "DG2 = copy.deepcopy(DG)\n",
    "TrustSet = DG2.nodes()\n",
    "TrustSet_number = len(TrustSet)\n",
    "start = max(DG.nodes()) + 1\n",
    "Sybil_number = int(node_number * 0.3)\n",
    "new_node = []\n",
    "for i in range(Sybil_number):\n",
    "    DG2.add_node(start+i)\n",
    "    new_node.append(start+i)\n",
    "node_number2 = len(DG2.nodes())\n",
    "print node_number\n",
    "print node_number2\n",
    "\n",
    "for node in new_node:\n",
    "    for i in range(d):\n",
    "        to = random.randint(start, start+Sybil_number)\n",
    "        DG2.add_edge(node, to)\n",
    "        DG2.add_edge(to, node)\n",
    "\n",
    "for i in range(a):\n",
    "    from_one = TrustSet[random.randint(0, TrustSet_number-1)]\n",
    "    to_other = new_node[random.randint(0, Sybil_number-1)]\n",
    "    DG2.add_edge(from_one, to_other)\n",
    "    DG2.add_edge(to_other, from_one)"
   ]
  },
  {
   "cell_type": "code",
   "execution_count": 5,
   "metadata": {
    "collapsed": true
   },
   "outputs": [],
   "source": [
    "\n",
    "#After adding Sybils, run pagerank\n",
    "##set up personalized vector\n",
    "l = []\n",
    "for n in DG2:\n",
    "    numfollower = len(DG2.in_edges(n))\n",
    "    #print G.in_edges(n), numfollower\n",
    "    l.append([n, numfollower])\n",
    "\n",
    "l = sorted(l, key=lambda s: s[1], reverse=True)\n",
    "\n",
    "#Set the top 100 nodes as trust\n",
    "t = []\n",
    "for i in range(100):\n",
    "    t.append(l[i][0])\n",
    "\n",
    "Personalized_vector= DG2.in_degree()\n",
    "TrustSet = set(t)\n",
    "NumberofTrust = len(TrustSet)"
   ]
  },
  {
   "cell_type": "code",
   "execution_count": 6,
   "metadata": {
    "collapsed": true
   },
   "outputs": [],
   "source": [
    "for key in Personalized_vector:\n",
    "    if key in TrustSet:\n",
    "        Personalized_vector[key] = 0\n",
    "    else:\n",
    "        Personalized_vector[key] = 1.0 / NumberofTrust"
   ]
  },
  {
   "cell_type": "code",
   "execution_count": 9,
   "metadata": {
    "collapsed": false
   },
   "outputs": [
    {
     "name": "stderr",
     "output_type": "stream",
     "text": [
      "/usr/local/lib/python2.7/dist-packages/numpy/core/fromnumeric.py:2507: VisibleDeprecationWarning: `rank` is deprecated; use the `ndim` attribute or function instead. To find the rank of a matrix see `numpy.linalg.matrix_rank`.\n",
      "  VisibleDeprecationWarning)\n"
     ]
    }
   ],
   "source": [
    "#run trust_rank\n",
    "result = pagerank_scipy(DG2,personalization=Personalized_vector)"
   ]
  },
  {
   "cell_type": "code",
   "execution_count": 12,
   "metadata": {
    "collapsed": false
   },
   "outputs": [],
   "source": [
    "#After getting the pagerank value we will go to find the ROC\n",
    "### Construct y and result_prob\n",
    "nodes = DG2.nodes()\n",
    "y = []\n",
    "result_prob = []\n",
    "for i in nodes:\n",
    "    if i in true_nodes:\n",
    "        y.append(1)\n",
    "    else:\n",
    "        y.append(0)\n",
    "    result_prob.append(result[i])"
   ]
  },
  {
   "cell_type": "code",
   "execution_count": 15,
   "metadata": {
    "collapsed": false
   },
   "outputs": [
    {
     "name": "stdout",
     "output_type": "stream",
     "text": [
      "Area under the ROC curve : 0.036080\n"
     ]
    }
   ],
   "source": [
    "\n",
    "#Use package to draw and compute the ROC\n",
    "from sklearn.metrics import roc_curve, auc\n",
    "import numpy as np\n",
    "import pylab as pl\n",
    "\n",
    "\n",
    "# Compute ROC curve and area the curve\n",
    "#### Here probas_[:,1] is a numpy array of probabilities\n",
    "fpr, tpr, thresholds = roc_curve(y, result_prob)\n",
    "roc_auc = auc(fpr, tpr)\n",
    "print \"Area under the ROC curve : %f\" % roc_auc\n",
    "\n",
    "# Plot ROC curve\n",
    "pl.clf()\n",
    "pl.plot(fpr, tpr, label='ROC curve (area = %0.2f)' % roc_auc)\n",
    "pl.plot([0, 1], [0, 1], 'k--')\n",
    "pl.xlim([0.0, 1.0])\n",
    "pl.ylim([0.0, 1.0])\n",
    "pl.xlabel('False Positive Rate')\n",
    "pl.ylabel('True Positive Rate')\n",
    "pl.title('Receiver operating characteristic example')\n",
    "pl.legend(loc=\"lower right\")\n",
    "pl.show()"
   ]
  }
 ],
 "metadata": {
  "kernelspec": {
   "display_name": "Python 2",
   "language": "python",
   "name": "python2"
  },
  "language_info": {
   "codemirror_mode": {
    "name": "ipython",
    "version": 2
   },
   "file_extension": ".py",
   "mimetype": "text/x-python",
   "name": "python",
   "nbconvert_exporter": "python",
   "pygments_lexer": "ipython2",
   "version": "2.7.6"
  }
 },
 "nbformat": 4,
 "nbformat_minor": 0
}
