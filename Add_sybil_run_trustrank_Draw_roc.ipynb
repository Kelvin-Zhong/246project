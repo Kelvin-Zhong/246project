{
 "cells": [
  {
   "cell_type": "code",
   "execution_count": 1,
   "metadata": {
    "collapsed": true
   },
   "outputs": [],
   "source": [
    "#Read the original true graph from file\n",
    "import networkx as nx\n",
    "import pickle\n",
    "DG = pickle.load( open( '246_source/retweet_network_graph.p', \"rb\" ) )\n",
    "true_nodes = set(DG.nodes())"
   ]
  },
  {
   "cell_type": "code",
   "execution_count": null,
   "metadata": {
    "collapsed": true
   },
   "outputs": [],
   "source": [
    "#Add Sybils into the graph"
   ]
  },
  {
   "cell_type": "code",
   "execution_count": null,
   "metadata": {
    "collapsed": true
   },
   "outputs": [],
   "source": [
    "#After adding Sybils, run pagerank\n",
    "##set up personalized vector\n",
    "l = []\n",
    "for n in DG:\n",
    "    numfollower = len(DG.in_edges(n))\n",
    "    #print G.in_edges(n), numfollower\n",
    "    l.append([n, numfollower])\n",
    "\n",
    "l = sorted(l, key=lambda s: s[1], reverse=True)\n",
    "\n",
    "#Set the top 100 nodes as trust\n",
    "t = []\n",
    "for i in range(100):\n",
    "    t.append(l[i][0])\n",
    "\n",
    "Personalized_vector= DG.in_degree()\n",
    "TrustSet = set(t)\n",
    "NumberofTrust = len(TrustSet)"
   ]
  },
  {
   "cell_type": "code",
   "execution_count": null,
   "metadata": {
    "collapsed": true
   },
   "outputs": [],
   "source": [
    "for key in Personalized_vector:\n",
    "    if key in TrustSet:\n",
    "        Personalized_vector[key] = 0\n",
    "    else:\n",
    "        Personalized_vector[key] = 1.0 / NumberofTrust"
   ]
  },
  {
   "cell_type": "code",
   "execution_count": null,
   "metadata": {
    "collapsed": true
   },
   "outputs": [],
   "source": [
    "#run trust_rank\n",
    "result = pagerank_scipy(DG,personalization=Personalized_vector)"
   ]
  },
  {
   "cell_type": "code",
   "execution_count": null,
   "metadata": {
    "collapsed": true
   },
   "outputs": [],
   "source": [
    "#After getting the pagerank value we will go to find the ROC\n",
    "### Construct y and result_prob\n",
    "nodes = DG.nodes()\n",
    "y = []\n",
    "result_prob = []\n",
    "count = 0\n",
    "for i in nodes:\n",
    "    if i in true_nodes:\n",
    "        y[count] = 1\n",
    "    else:\n",
    "        y[count] = 0\n",
    "    result_prob[count] = result[i]\n",
    "    count += 1"
   ]
  },
  {
   "cell_type": "code",
   "execution_count": null,
   "metadata": {
    "collapsed": true
   },
   "outputs": [],
   "source": [
    "\n",
    "#Use package to draw and compute the ROC\n",
    "from sklearn.metrics import roc_curve, auc\n",
    "import numpy as np\n",
    "\n",
    "\n",
    "# Compute ROC curve and area the curve\n",
    "#### Here probas_[:,1] is a numpy array of probabilities\n",
    "fpr, tpr, thresholds = roc_curve(y, result_prob)\n",
    "roc_auc = auc(fpr, tpr)\n",
    "print \"Area under the ROC curve : %f\" % roc_auc\n",
    "\n",
    "# Plot ROC curve\n",
    "pl.clf()\n",
    "pl.plot(fpr, tpr, label='ROC curve (area = %0.2f)' % roc_auc)\n",
    "pl.plot([0, 1], [0, 1], 'k--')\n",
    "pl.xlim([0.0, 1.0])\n",
    "pl.ylim([0.0, 1.0])\n",
    "pl.xlabel('False Positive Rate')\n",
    "pl.ylabel('True Positive Rate')\n",
    "pl.title('Receiver operating characteristic example')\n",
    "pl.legend(loc=\"lower right\")\n",
    "pl.show()"
   ]
  }
 ],
 "metadata": {
  "kernelspec": {
   "display_name": "Python 2",
   "language": "python",
   "name": "python2"
  },
  "language_info": {
   "codemirror_mode": {
    "name": "ipython",
    "version": 2
   },
   "file_extension": ".py",
   "mimetype": "text/x-python",
   "name": "python",
   "nbconvert_exporter": "python",
   "pygments_lexer": "ipython2",
   "version": "2.7.6"
  }
 },
 "nbformat": 4,
 "nbformat_minor": 0
}
