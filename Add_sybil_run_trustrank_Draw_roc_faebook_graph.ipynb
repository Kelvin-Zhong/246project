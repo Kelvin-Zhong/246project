{
 "cells": [
  {
   "cell_type": "code",
   "execution_count": 1,
   "metadata": {
    "collapsed": true
   },
   "outputs": [],
   "source": [
    "#PageRank function\n",
    "import networkx as nx\n",
    "def pagerank_scipy(G, alpha=0.85, personalization=None,\n",
    "                   max_iter=100, tol=1.0e-6, weight='weight',\n",
    "                   dangling=None):\n",
    "\n",
    "    import scipy.sparse\n",
    "\n",
    "    N = len(G)\n",
    "    if N == 0:\n",
    "        return {}\n",
    "\n",
    "    nodelist = G.nodes()\n",
    "    M = nx.to_scipy_sparse_matrix(G, nodelist=nodelist, weight=weight,\n",
    "                                  dtype=float)\n",
    "    S = scipy.array(M.sum(axis=1)).flatten()\n",
    "    S[S != 0] = 1.0 / S[S != 0]\n",
    "    Q = scipy.sparse.spdiags(S.T, 0, *M.shape, format='csr')\n",
    "    M = Q * M\n",
    "\n",
    "    # initial vector\n",
    "    x = scipy.repeat(1.0 / N, N)\n",
    "\n",
    "    # Personalization vector\n",
    "    if personalization is None:\n",
    "        p = scipy.repeat(1.0 / N, N)\n",
    "    else:\n",
    "        missing = set(nodelist) - set(personalization)\n",
    "        if missing:\n",
    "            raise NetworkXError('Personalization vector dictionary '\n",
    "                                'must have a value for every node. '\n",
    "                                'Missing nodes %s' % missing)\n",
    "        p = scipy.array([personalization[n] for n in nodelist],\n",
    "                        dtype=float)\n",
    "        p = p / p.sum()\n",
    "\n",
    "    # Dangling nodes\n",
    "    if dangling is None:\n",
    "        dangling_weights = p\n",
    "    else:\n",
    "        missing = set(nodelist) - set(dangling)\n",
    "        if missing:\n",
    "            raise NetworkXError('Dangling node dictionary '\n",
    "                                'must have a value for every node. '\n",
    "                                'Missing nodes %s' % missing)\n",
    "        # Convert the dangling dictionary into an array in nodelist order\n",
    "        dangling_weights = scipy.array([dangling[n] for n in nodelist],\n",
    "                                       dtype=float)\n",
    "        dangling_weights /= dangling_weights.sum()\n",
    "    is_dangling = scipy.where(S == 0)[0]\n",
    "\n",
    "    # power iteration: make up to max_iter iterations\n",
    "    for _ in range(max_iter):\n",
    "        xlast = x\n",
    "        x = alpha * (x * M + sum(x[is_dangling]) * dangling_weights) + \\\n",
    "            (1 - alpha) * p\n",
    "        # check convergence, l1 norm\n",
    "        err = scipy.absolute(x - xlast).sum()\n",
    "        if err < N * tol:\n",
    "            return dict(zip(nodelist, map(float, x)))\n",
    "    raise NetworkXError('pagerank_scipy: power iteration failed to converge '\n",
    "                        'in %d iterations.' % max_iter)\n"
   ]
  },
  {
   "cell_type": "code",
   "execution_count": 2,
   "metadata": {
    "collapsed": true
   },
   "outputs": [],
   "source": [
    "import random\n",
    "import copy\n",
    "\n",
    "def add_sybils(DG,d,a):\n",
    "    \n",
    "    true_nodes = DG.nodes()\n",
    "    node_number = len(true_nodes)\n",
    "    DG2 = copy.deepcopy(DG)\n",
    "    true_nodes_number = len(true_nodes)\n",
    "    start = max(DG.nodes()) + 1\n",
    "    Sybil_number = int(node_number * 0.3)\n",
    "    new_node = []\n",
    "    \n",
    "    for i in range(Sybil_number):\n",
    "        DG2.add_node(start+i)\n",
    "        new_node.append(start+i)\n",
    "    node_number2 = len(DG2.nodes())\n",
    "    \n",
    "    print node_number\n",
    "    print node_number2\n",
    "\n",
    "    for node in new_node:\n",
    "        for i in range(d):\n",
    "            to = random.randint(start, start+Sybil_number)\n",
    "            DG2.add_edge(node, to)\n",
    "            DG2.add_edge(to, node)\n",
    "\n",
    "    for i in range(a):\n",
    "        from_one = true_nodes[random.randint(0, true_nodes_number-1)]\n",
    "        to_other = new_node[random.randint(0, Sybil_number-1)]\n",
    "        DG2.add_edge(from_one, to_other)\n",
    "        DG2.add_edge(to_other, from_one)\n",
    "        \n",
    "    return DG2"
   ]
  },
  {
   "cell_type": "code",
   "execution_count": 3,
   "metadata": {
    "collapsed": true
   },
   "outputs": [],
   "source": [
    "def get_personalized_vector(DG2,TrustSet):\n",
    "    NumberofTrust = len(TrustSet)\n",
    "    Personalized_vector= DG2.in_degree()\n",
    "    for key in Personalized_vector:\n",
    "        if key in TrustSet:\n",
    "            Personalized_vector[key] = 0\n",
    "        else:\n",
    "            Personalized_vector[key] = 1.0 / NumberofTrust\n",
    "    return Personalized_vector"
   ]
  },
  {
   "cell_type": "code",
   "execution_count": 4,
   "metadata": {
    "collapsed": true
   },
   "outputs": [],
   "source": [
    "def initialize_trust_seeds(DG,numberofseed):\n",
    "    l = []\n",
    "    for n in DG:\n",
    "        numfollower = len(DG.in_edges(n))\n",
    "        #print G.in_edges(n), numfollower\n",
    "        l.append([n, numfollower])\n",
    "\n",
    "    l = sorted(l, key=lambda s: s[1], reverse=True)\n",
    "\n",
    "    #Set the top 100 nodes as trust\n",
    "    t = []\n",
    "    for i in range(numberofseed):\n",
    "        t.append(l[i][0])\n",
    "\n",
    "    Personalized_vector= DG.in_degree()\n",
    "    TrustSet = set(t)\n",
    "    return TrustSet"
   ]
  },
  {
   "cell_type": "code",
   "execution_count": 5,
   "metadata": {
    "collapsed": true
   },
   "outputs": [],
   "source": [
    "def get_y_with_pagerank(DG2,true_nodes):\n",
    "    #After getting the pagerank value we will go to find the ROC\n",
    "    ### Construct y and result_prob\n",
    "    nodes = DG2.nodes()\n",
    "    y = []\n",
    "    result_prob = []\n",
    "    index = []\n",
    "    for i in nodes:\n",
    "        if i in true_nodes:\n",
    "            y.append(1)\n",
    "        else:\n",
    "            y.append(0)\n",
    "        result_prob.append(result[i])\n",
    "        index.append(i)\n",
    "    return y,result_prob,index"
   ]
  },
  {
   "cell_type": "code",
   "execution_count": 6,
   "metadata": {
    "collapsed": false
   },
   "outputs": [],
   "source": [
    "def compute_TPR_FPR(true_nodes_set,threshold,result_prob):\n",
    "    TN = 0\n",
    "    TP = 0\n",
    "    FN = 0\n",
    "    FP = 0\n",
    "    \n",
    "    for i in range(len(result_prob)):\n",
    "        if result_prob[i] < threshold:\n",
    "            if index[i] in true_nodes_set:\n",
    "                FP += 1\n",
    "            else:\n",
    "                TP += 1\n",
    "        else:\n",
    "            if index[i] in true_nodes_set:\n",
    "                TN += 1\n",
    "            else:\n",
    "                FN += 1\n",
    "    if TP + FN == 0:  \n",
    "        TPR = -1\n",
    "    else:\n",
    "        TPR = TP * 1.0 / (TP + FN)\n",
    "    \n",
    "    if FP + TN == 0:\n",
    "        FPR = -1\n",
    "    else:\n",
    "        FPR = FP * 1.0 / (FP + TN)\n",
    "    #print TPR,FPR\n",
    "    return TPR,FPR\n",
    "    \n",
    "#True Positive Rate: Recall: (TP) / (TP + FN)\n",
    "#False Positive Rate: FP / (FP + TN)"
   ]
  },
  {
   "cell_type": "code",
   "execution_count": 7,
   "metadata": {
    "collapsed": false
   },
   "outputs": [],
   "source": [
    "#Filter the FPR and TPR to ensure no negative slew\n",
    "def filter_FPR_TPR(TPR_array,FPR_array):\n",
    "    TPR_array2 = [0.0]\n",
    "    FPR_array2 = [0.0]\n",
    "    con = 0\n",
    "    for i in range(1,len(TPR_array)):\n",
    "        if TPR_array[i] > FPR_array[i] and TPR_array[i] >= TPR_array2[con] and FPR_array[i] >= FPR_array2[con]:\n",
    "            TPR_array2.append(TPR_array[i])\n",
    "            FPR_array2.append(FPR_array[i])\n",
    "            con += 1\n",
    "    return TPR_array2,FPR_array2"
   ]
  },
  {
   "cell_type": "code",
   "execution_count": 8,
   "metadata": {
    "collapsed": false
   },
   "outputs": [],
   "source": [
    "#Read the original true graph from file\n",
    "import networkx as nx\n",
    "import pickle\n",
    "DG = pickle.load( open( '246_source/retweet_network_graph.p', \"rb\" ) )\n",
    "\n",
    "true_nodes = set(DG.nodes())\n",
    "\n",
    "numberofseed = 100\n",
    "TrustSet = initialize_trust_seeds(DG,numberofseed)"
   ]
  },
  {
   "cell_type": "code",
   "execution_count": 9,
   "metadata": {
    "collapsed": false
   },
   "outputs": [
    {
     "name": "stdout",
     "output_type": "stream",
     "text": [
      "256491\n",
      "333438\n"
     ]
    },
    {
     "name": "stderr",
     "output_type": "stream",
     "text": [
      "/usr/local/lib/python2.7/dist-packages/numpy/core/fromnumeric.py:2507: VisibleDeprecationWarning: `rank` is deprecated; use the `ndim` attribute or function instead. To find the rank of a matrix see `numpy.linalg.matrix_rank`.\n",
      "  VisibleDeprecationWarning)\n"
     ]
    }
   ],
   "source": [
    "#run trust_rank\n",
    "d = 7\n",
    "a = 10000\n",
    "DG2 = add_sybils(DG,d,a)\n",
    "Personalized_vector = get_personalized_vector(DG2,TrustSet)\n",
    "result = pagerank_scipy(DG2,personalization=Personalized_vector)\n",
    "y,result_prob,index = get_y_with_pagerank(DG2,true_nodes)"
   ]
  },
  {
   "cell_type": "code",
   "execution_count": 14,
   "metadata": {
    "collapsed": false
   },
   "outputs": [
    {
     "data": {
      "text/plain": [
       "328132"
      ]
     },
     "execution_count": 14,
     "metadata": {},
     "output_type": "execute_result"
    }
   ],
   "source": [
    "len(DG.edges())"
   ]
  },
  {
   "cell_type": "code",
   "execution_count": 10,
   "metadata": {
    "collapsed": false
   },
   "outputs": [],
   "source": [
    "n = len(DG2.nodes())\n",
    "max_abs_prob = max(result_prob) * n * 1.0\n",
    "for i in xrange(len(result_prob)):\n",
    "    result_prob[i] = result_prob[i] * n / max_abs_prob\n",
    "\n",
    "threshold2 = []\n",
    "sort_result_prob = sorted(result_prob)\n",
    "for i in range(150):\n",
    "    tmp_n = int((0.25 + 0.005 * i) * n)\n",
    "    threshold2.append(sort_result_prob[tmp_n])\n",
    "#threshold2 = threshold2[::-1]"
   ]
  },
  {
   "cell_type": "code",
   "execution_count": 29,
   "metadata": {
    "collapsed": false
   },
   "outputs": [
    {
     "name": "stdout",
     "output_type": "stream",
     "text": [
      "0.178601133233 0.95977246765\n"
     ]
    }
   ],
   "source": [
    "TPR,FPR = compute_TPR_FPR(true_nodes,0.0002,result_prob)\n",
    "print TPR, FPR"
   ]
  },
  {
   "cell_type": "code",
   "execution_count": 11,
   "metadata": {
    "collapsed": false
   },
   "outputs": [],
   "source": [
    "threshold = 0.01\n",
    "\n",
    "TPR_array = []\n",
    "FPR_array = []\n",
    "for i in range(len(threshold2)):\n",
    "    TPR,FPR = compute_TPR_FPR(true_nodes,threshold2[i],result_prob)\n",
    "    if TPR == -1 or FPR == -1:\n",
    "        continue\n",
    "    TPR_array.append(TPR)\n",
    "    FPR_array.append(FPR)\n",
    "\n",
    "#TPR_array = TPR_array[::-1]\n",
    "TPR_array.insert(0,0.0)\n",
    "TPR_array.append(1.0)\n",
    "FPR_array.insert(0,0.0)\n",
    "FPR_array.append(1.0)"
   ]
  },
  {
   "cell_type": "code",
   "execution_count": 15,
   "metadata": {
    "collapsed": false
   },
   "outputs": [
    {
     "data": {
      "text/plain": [
       "(256491, 333439)"
      ]
     },
     "execution_count": 15,
     "metadata": {},
     "output_type": "execute_result"
    }
   ],
   "source": [
    "DG.order(),DG2.order()\n"
   ]
  },
  {
   "cell_type": "code",
   "execution_count": 12,
   "metadata": {
    "collapsed": false
   },
   "outputs": [
    {
     "name": "stdout",
     "output_type": "stream",
     "text": [
      "0.0 0.0\n",
      "0.0 0.0\n",
      "0.0 0.0\n",
      "0.0 0.0\n",
      "0.0 0.0\n",
      "0.0 0.0\n",
      "0.0 0.0\n",
      "0.0 0.0\n",
      "0.0 0.0\n",
      "0.0 0.0\n",
      "0.0 0.0\n",
      "0.0 0.0\n",
      "0.0 0.0\n",
      "0.0 0.0\n",
      "0.0 0.0\n",
      "0.0 0.0\n",
      "0.0 0.0\n",
      "0.0 0.0\n",
      "0.0 0.0\n",
      "0.0 0.0\n",
      "0.0 0.0\n",
      "0.0 0.0\n",
      "0.0 0.0\n",
      "0.0 0.0\n",
      "0.0 0.0\n",
      "0.0 0.0\n",
      "0.0 0.0\n",
      "0.0 0.0\n",
      "0.0 0.0\n",
      "0.0 0.0\n",
      "0.0 0.0\n",
      "0.0 0.0\n",
      "0.0 0.0\n",
      "0.0 0.0\n",
      "0.0 0.0\n",
      "0.0 0.0\n",
      "0.0 0.0\n",
      "0.0 0.0\n",
      "0.0 0.0\n",
      "0.0 0.0\n",
      "0.0 0.0\n",
      "0.0 0.0\n",
      "0.0 0.0\n",
      "0.0 0.0\n",
      "0.0 0.0\n",
      "0.0 0.0\n",
      "0.0 0.0\n",
      "0.0 0.0\n",
      "0.0 0.0\n",
      "0.0 0.0\n",
      "0.0 0.0\n",
      "0.0 0.0\n",
      "0.0 0.0\n",
      "0.0 0.0\n",
      "0.0 0.0\n",
      "0.0 0.0\n",
      "0.0 0.0\n",
      "0.0 0.0\n",
      "0.0 0.0\n",
      "0.0 0.0\n",
      "0.0 0.0\n",
      "0.0 0.0\n",
      "0.0 0.0\n",
      "0.0 0.0\n",
      "0.0 0.0\n",
      "0.0 0.0\n",
      "0.0 0.0\n",
      "0.0 0.0\n",
      "0.0 0.0\n",
      "0.0 0.0\n",
      "0.0 0.0\n",
      "0.0 0.0\n",
      "0.0 0.0\n",
      "0.0 0.0\n",
      "0.0 0.0\n",
      "0.0 0.0\n",
      "0.0 0.812488547356\n",
      "0.0 0.818999497058\n",
      "0.0 0.825498750443\n",
      "0.0 0.831994105056\n",
      "0.0 0.838501155986\n",
      "0.0 0.844181667193\n",
      "0.0 0.850029825608\n",
      "0.0 0.857998916141\n",
      "0.0 0.858926823943\n",
      "0.0 0.858926823943\n",
      "0.0 0.877239357326\n",
      "0.0 0.881395448573\n",
      "0.0 0.881395448573\n",
      "0.0 0.881395448573\n",
      "0.0 0.881395448573\n",
      "0.0 0.881395448573\n",
      "0.0 0.881395448573\n",
      "0.0 0.881395448573\n",
      "0.0 0.881395448573\n",
      "0.0 0.935724840248\n",
      "0.000285907366013 0.940305897673\n",
      "0.00577013047773 0.947269104959\n",
      "0.0211311535063 0.949160009513\n",
      "0.0211831366637 0.949160009513\n",
      "0.0348027239175 0.958060906621\n",
      "0.0542054374383 0.958739292997\n",
      "0.0726204709674 0.959713986066\n",
      "0.0913474034413 0.9605951086\n",
      "0.112114674845 0.960864123887\n",
      "0.131803295732 0.961460636046\n",
      "0.147879087176 0.963137108125\n",
      "0.168789312263 0.963363236917\n",
      "0.189270676301 0.963718025194\n",
      "0.209843010864 0.964045522065\n",
      "0.230870198056 0.964240460679\n",
      "0.251130633675 0.964661528085\n",
      "0.272014867183 0.964895454421\n",
      "0.293068045953 0.965078696718\n",
      "0.314277174196 0.965215153748\n",
      "0.334888496127 0.965530954302\n",
      "0.356149607527 0.965655715015\n",
      "0.376968862089 0.965909135213\n",
      "0.398022040859 0.96609237751\n",
      "0.415618339658 0.966380886659\n",
      "0.433071684774 0.968575895451\n",
      "0.454306804595 0.968708453708\n",
      "0.475489941259 0.968852708282\n",
      "0.496231221084 0.969129521114\n",
      "0.517102458803 0.969367346223\n",
      "0.53801268389 0.969593475015\n",
      "0.559000883714 0.969800109945\n",
      "0.579950096169 0.970014542421\n",
      "0.60118521599 0.970143201906\n",
      "0.622498310547 0.970248468757\n",
      "0.642615792483 0.970712422658\n",
      "0.663240110204 0.971028223213\n",
      "0.684410251079 0.971176376559\n",
      "0.705554400374 0.97133232745\n",
      "0.724996101263 0.971999017509\n",
      "0.746010292665 0.972193956123\n",
      "0.766413681967 0.972576035806\n",
      "0.787297915475 0.972809962143\n",
      "0.808312106877 0.973004900757\n",
      "0.828975411967 0.973305106222\n",
      "0.849365805479 0.973687185905\n",
      "0.870133076883 0.973960099965\n",
      "0.888249207257 0.975024464796\n",
      "0.908496647086 0.975449430974\n",
      "0.928627124812 0.975909486103\n",
      "0.947769922545 0.976665847924\n",
      "0.965600145553 0.977819884518\n",
      "0.980870198056 0.979738080478\n",
      "0.991383791652 0.983083227092\n",
      "0.996361178978 0.988089250695\n",
      "0.998921349483 0.993820445942\n",
      "1.0 1.0\n"
     ]
    }
   ],
   "source": [
    "for i in range(len(TPR_array)):\n",
    "    print TPR_array[i],FPR_array[i]"
   ]
  },
  {
   "cell_type": "code",
   "execution_count": 13,
   "metadata": {
    "collapsed": false
   },
   "outputs": [
    {
     "name": "stdout",
     "output_type": "stream",
     "text": [
      "Area under the ROC curve : 0.031750\n"
     ]
    }
   ],
   "source": [
    "\n",
    "#Use package to draw and compute the ROC\n",
    "from sklearn.metrics import roc_curve, auc\n",
    "import numpy as np\n",
    "import pylab as pl\n",
    "\n",
    "\n",
    "# Compute ROC curve and area the curve\n",
    "#### Here probas_[:,1] is a numpy array of probabilities\n",
    "roc_auc = auc(FPR_array, TPR_array)\n",
    "fpr, tpr, thresholds = roc_curve(y, result_prob)\n",
    "roc_auc = auc(fpr, tpr)\n",
    "print \"Area under the ROC curve : %f\" % roc_auc\n",
    "\n",
    "# Plot ROC curve\n",
    "pl.clf()\n",
    "pl.plot(tpr, fpr, label='ROC curve (area = %0.2f)' % roc_auc)\n",
    "pl.plot([0, 1], [0, 1], 'k--')\n",
    "pl.xlim([0.0, 1.0])\n",
    "pl.ylim([0.0, 1.0])\n",
    "pl.xlabel('False Positive Rate')\n",
    "pl.ylabel('True Positive Rate')\n",
    "pl.title('Receiver operating characteristic example')\n",
    "pl.legend(loc=\"lower right\")\n",
    "pl.show()"
   ]
  },
  {
   "cell_type": "code",
   "execution_count": 19,
   "metadata": {
    "collapsed": true
   },
   "outputs": [],
   "source": [
    "TPR_array2 = [0.0]\n",
    "FPR_array2 = [0.0]\n",
    "\n",
    "for i in range(1,len(TPR_array)):\n",
    "    if TPR_array[i] >= TPR_array[i-1] and FPR_array[i] >= FPR_array[i-1]:\n",
    "        TPR_array2.append(TPR_array[i])\n",
    "        FPR_array2.append(FPR_array[i])"
   ]
  },
  {
   "cell_type": "code",
   "execution_count": 28,
   "metadata": {
    "collapsed": false
   },
   "outputs": [
    {
     "data": {
      "text/plain": [
       "[0.0,\n",
       " 0.31979668508287296,\n",
       " 0.28696659407867303,\n",
       " 0.28696659407867303,\n",
       " 0.28696659407867303,\n",
       " 0.28696659407867303,\n",
       " 0.28696659407867303,\n",
       " 0.28696659407867303,\n",
       " 0.28696659407867303,\n",
       " 0.15555058981264774,\n",
       " 0.15587968258085816,\n",
       " 0.13583085497213407,\n",
       " 0.1363085286948532,\n",
       " 0.13652188653166603,\n",
       " 0.1379025378545532,\n",
       " 0.14065460692231144,\n",
       " 0.1434324572893732,\n",
       " 0.1439384202333519,\n",
       " 0.14582693292370713,\n",
       " 0.14839251439539347,\n",
       " 0.1487041070808473,\n",
       " 0.15215523530079272,\n",
       " 0.15538153948683772,\n",
       " 0.1591033726350425,\n",
       " 0.1631648584281556,\n",
       " 0.16703624268421244,\n",
       " 0.1708121684691946,\n",
       " 0.1747929726801331,\n",
       " 0.17976247600767753,\n",
       " 0.1836852882169228,\n",
       " 0.1897947817145795,\n",
       " 0.19589025880262134,\n",
       " 0.20183168773645843,\n",
       " 0.20928502879078695,\n",
       " 0.20893965472278725,\n",
       " 0.21633632323672947,\n",
       " 0.22492288358277163,\n",
       " 0.2348848368522073,\n",
       " 0.24560406604160748,\n",
       " 0.2584471842719094,\n",
       " 0.27117806865892813,\n",
       " 0.28336332283700705,\n",
       " 0.31763849021035945,\n",
       " 0.3377963226191022,\n",
       " 0.35757484880291895,\n",
       " 0.3865866957470011,\n",
       " 0.4194457773512476,\n",
       " 0.46024658447184275,\n",
       " 0.5100464837306943,\n",
       " 0.5748436295090394,\n",
       " 0.6370451819272291,\n",
       " 0.7424424184261037,\n",
       " 0.8670563549160671,\n",
       " 0.9926029588164734,\n",
       " 0.9997001499250375,\n",
       " 1.0]"
      ]
     },
     "execution_count": 28,
     "metadata": {},
     "output_type": "execute_result"
    }
   ],
   "source": [
    "TPR_array2"
   ]
  },
  {
   "cell_type": "code",
   "execution_count": 29,
   "metadata": {
    "collapsed": false
   },
   "outputs": [
    {
     "data": {
      "text/plain": [
       "[0.7680689391176444,\n",
       " 0.7669007343140344,\n",
       " 0.7658272362736233,\n",
       " 0.7672316972032059,\n",
       " 0.7699159958536218,\n",
       " 0.7733176681558891,\n",
       " 0.7762798040824445,\n",
       " 0.7800288034089241,\n",
       " 0.7837887913979035,\n",
       " 0.7876388638968075,\n",
       " 0.7915004490652144,\n",
       " 0.7955058832537839,\n",
       " 0.7994223919391586,\n",
       " 0.8032202723010146,\n",
       " 0.8073831748429957,\n",
       " 0.8114798720836607,\n",
       " 0.8154974172063875,\n",
       " 0.8197469589261409,\n",
       " 0.824195889475812,\n",
       " 0.8286009430347057,\n",
       " 0.8330881589132351,\n",
       " 0.8375657096643753,\n",
       " 0.842036239422826,\n",
       " 0.846673437255049,\n",
       " 0.849221446467804,\n",
       " 0.854014774674154,\n",
       " 0.858711480320639,\n",
       " 0.863556948914935,\n",
       " 0.86853274404574,\n",
       " 0.8732530528573899,\n",
       " 0.8782701283029583,\n",
       " 0.883215275199223,\n",
       " 0.8882268219710439,\n",
       " 0.8933637815532928,\n",
       " 0.8986502451951565,\n",
       " 0.9039788749135942,\n",
       " 0.9093033353940357,\n",
       " 0.9147860858618583,\n",
       " 0.9203071329046487,\n",
       " 0.924438896199077,\n",
       " 0.929980685367657,\n",
       " 0.9354481124912686,\n",
       " 0.9408469219686866,\n",
       " 0.9465207126983028,\n",
       " 0.9525182361705009,\n",
       " 0.9582197329677349,\n",
       " 0.9636584600909519,\n",
       " 0.9692517747708287,\n",
       " 0.9753243348454395,\n",
       " 0.978445883441258,\n",
       " 0.9792803890311257,\n",
       " 0.9854302434912298,\n",
       " 0.9907253638652342,\n",
       " 0.9964748949247526,\n",
       " 0.9981372707290722,\n",
       " 0.9999958345829585,\n",
       " 0.9999955658821235,\n",
       " 0.9999955658821235,\n",
       " 0.9999955658821235,\n",
       " 0.9999955658821235,\n",
       " 0.9999955658821235,\n",
       " 0.9999955658821235,\n",
       " 0.9999955658821235,\n",
       " 0.9999955658821235,\n",
       " 1.0,\n",
       " 1.0,\n",
       " 1.0,\n",
       " 1.0,\n",
       " 1.0,\n",
       " 1.0,\n",
       " 1.0]"
      ]
     },
     "execution_count": 29,
     "metadata": {},
     "output_type": "execute_result"
    }
   ],
   "source": [
    "FPR_array"
   ]
  },
  {
   "cell_type": "code",
   "execution_count": 54,
   "metadata": {
    "collapsed": true
   },
   "outputs": [],
   "source": [
    "TPR_array.append(1.0)\n",
    "FPR_array.append(1.0)\n",
    "TPR_array,FPR_array = filter_FPR_TPR(TPR_array,FPR_array)"
   ]
  },
  {
   "cell_type": "code",
   "execution_count": 55,
   "metadata": {
    "collapsed": false
   },
   "outputs": [],
   "source": [
    "from sklearn.metrics import roc_curve, auc\n",
    "import numpy as np\n",
    "import pylab as pl\n",
    "roc_auc = auc(FPR_array, TPR_array)"
   ]
  },
  {
   "cell_type": "code",
   "execution_count": 56,
   "metadata": {
    "collapsed": false
   },
   "outputs": [
    {
     "data": {
      "text/plain": [
       "(0.33402437969624155,\n",
       " [0.0, 0.8686459739091318, 1.0],\n",
       " [0.0, 0.7672001713743611, 0.7680689391176444])"
      ]
     },
     "execution_count": 56,
     "metadata": {},
     "output_type": "execute_result"
    }
   ],
   "source": [
    "roc_auc,TPR_array,FPR_array2"
   ]
  },
  {
   "cell_type": "code",
   "execution_count": 1,
   "metadata": {
    "collapsed": false
   },
   "outputs": [],
   "source": [
    "#result_prob"
   ]
  },
  {
   "cell_type": "code",
   "execution_count": 16,
   "metadata": {
    "collapsed": false
   },
   "outputs": [
    {
     "name": "stdout",
     "output_type": "stream",
     "text": [
      "Area under the ROC curve : 0.793881\n"
     ]
    }
   ],
   "source": [
    "import numpy as np\n",
    "import pylab as pl\n",
    "from sklearn import svm, datasets\n",
    "from sklearn.utils import shuffle\n",
    "from sklearn.metrics import roc_curve, auc\n",
    "\n",
    "random_state = np.random.RandomState(0)\n",
    "\n",
    "# Import some data to play with\n",
    "iris = datasets.load_iris()\n",
    "X = iris.data\n",
    "y = iris.target\n",
    "\n",
    "# Make it a binary classification problem by removing the third class\n",
    "X, y = X[y != 2], y[y != 2]\n",
    "n_samples, n_features = X.shape\n",
    "\n",
    "# Add noisy features to make the problem harder\n",
    "X = np.c_[X, random_state.randn(n_samples, 200 * n_features)]\n",
    "\n",
    "# shuffle and split training and test sets\n",
    "X, y = shuffle(X, y, random_state=random_state)\n",
    "half = int(n_samples / 2)\n",
    "X_train, X_test = X[:half], X[half:]\n",
    "y_train, y_test = y[:half], y[half:]\n",
    "\n",
    "# Run classifier\n",
    "classifier = svm.SVC(kernel='linear', probability=True)\n",
    "probas_ = classifier.fit(X_train, y_train).predict_proba(X_test)\n",
    "\n",
    "# Compute ROC curve and area the curve\n",
    "fpr, tpr, thresholds = roc_curve(y_test, probas_[:, 1])\n",
    "roc_auc = auc(fpr, tpr)\n",
    "print \"Area under the ROC curve : %f\" % roc_auc\n",
    "\n",
    "# Plot ROC curve\n",
    "pl.clf()\n",
    "pl.plot(fpr, tpr, label='ROC curve (area = %0.2f)' % roc_auc)\n",
    "pl.plot([0, 1], [0, 1], 'k--')\n",
    "pl.xlim([0.0, 1.0])\n",
    "pl.ylim([0.0, 1.0])\n",
    "pl.xlabel('False Positive Rate')\n",
    "pl.ylabel('True Positive Rate')\n",
    "pl.title('Receiver operating characteristic example')\n",
    "pl.legend(loc=\"lower right\")\n",
    "pl.show()"
   ]
  }
 ],
 "metadata": {
  "kernelspec": {
   "display_name": "Python 2",
   "language": "python",
   "name": "python2"
  },
  "language_info": {
   "codemirror_mode": {
    "name": "ipython",
    "version": 2
   },
   "file_extension": ".py",
   "mimetype": "text/x-python",
   "name": "python",
   "nbconvert_exporter": "python",
   "pygments_lexer": "ipython2",
   "version": "2.7.6"
  }
 },
 "nbformat": 4,
 "nbformat_minor": 0
}
